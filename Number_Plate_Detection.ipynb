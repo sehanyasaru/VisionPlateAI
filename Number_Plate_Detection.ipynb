{
 "cells": [
  {
   "cell_type": "code",
   "execution_count": 31,
   "id": "a27f47fa",
   "metadata": {},
   "outputs": [
    {
     "name": "stdout",
     "output_type": "stream",
     "text": [
      "[1, 153, 370, 371, 407]\n"
     ]
    }
   ],
   "source": [
    "import cv2\n",
    "import easyocr\n",
    "from ultralytics import YOLO\n",
    "import cvzone\n",
    "import math\n",
    "\n",
    "model = YOLO(\"best1.pt\")\n",
    "video_path = \"C:\\\\Users\\\\User\\\\Desktop\\\\FInal OCR\\\\sample.mp4\"\n",
    "cap = cv2.VideoCapture(video_path)\n",
    "reader = easyocr.Reader(['en'])\n",
    "while cap.isOpened():\n",
    "    ret, frame = cap.read()\n",
    "\n",
    "    if not ret:\n",
    "        break\n",
    "    \n",
    "    frame = cv2.resize(frame, (640, 480))\n",
    "    \n",
    "    result = model(frame)\n",
    "    \n",
    "    for info in result:\n",
    "        boxes = info.boxes\n",
    "        for box in boxes:\n",
    "            confidence = box.conf[0]\n",
    "            confidence = math.ceil(confidence * 100)\n",
    "            Class = int(box.cls[0])\n",
    "            \n",
    "            \n",
    "            \n",
    "            x1, y1, x2, y2 = box.xyxy[0]\n",
    "            x1, y1, x2, y2 = int(x1), int(y1), int(x2), int(y2)\n",
    "            \n",
    "            plate_roi = frame[y1:y2, x1:x2]\n",
    "            extracted_results = reader.readtext(plate_roi)\n",
    "            \n",
    "            for result1 in extracted_results:\n",
    "                text=result1[1]\n",
    "                cv2.rectangle(frame, (x1, y1), (x2, y2), (0, 0, 255), 2)\n",
    "                cv2.putText(frame, f\"License Plate: {text}\", (x1, y1- 10), cv2.FONT_HERSHEY_SIMPLEX, 0.5, (0, 255, 0), 2)\n",
    "            print(x1,y1,x2,y2)\n",
    "\n",
    "    cv2.imshow('YOLO Output', frame)\n",
    "\n",
    "    \n",
    "    if cv2.waitKey(1) & 0xFF == ord('q'):\n",
    "        break\n",
    "\n",
    "cap.release()\n",
    "cv2.destroyAllWindows()"
   ]
  }
 ],
 "metadata": {
  "kernelspec": {
   "display_name": "OCR_Reader",
   "language": "python",
   "name": "ocr_reader"
  },
  "language_info": {
   "codemirror_mode": {
    "name": "ipython",
    "version": 3
   },
   "file_extension": ".py",
   "mimetype": "text/x-python",
   "name": "python",
   "nbconvert_exporter": "python",
   "pygments_lexer": "ipython3",
   "version": "3.11.9"
  }
 },
 "nbformat": 4,
 "nbformat_minor": 5
}
